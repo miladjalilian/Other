{
 "cells": [
  {
   "cell_type": "code",
   "execution_count": 101,
   "metadata": {},
   "outputs": [],
   "source": [
    "import pandas as pd\n",
    "import numpy as np\n",
    "from geopy.geocoders import Nominatim\n",
    "from geopy.geocoders import GoogleV3\n",
    "import geocoder\n",
    "from geopy.geocoders import GeoNames\n",
    "from shapely.geometry import Point, linestring, Polygon\n",
    "import warnings\n",
    "warnings.filterwarnings('ignore')"
   ]
  },
  {
   "cell_type": "code",
   "execution_count": 105,
   "metadata": {},
   "outputs": [],
   "source": [
    "Aras_File = pd.read_excel('C://Users//milad//KB.xlsx')\n",
    "Aras_File['Coordinates'] = list(zip(Aras_File.iloc[:,2], Aras_File.iloc[:,3]))\n",
    "Aras_File['Coordinates'] = Aras_File['Coordinates'].apply(Point)"
   ]
  },
  {
   "cell_type": "code",
   "execution_count": 96,
   "metadata": {},
   "outputs": [],
   "source": [
    "Pure=pd.read_excel('C://Users//Shaygan//Desktop//Pure.xlsx')  "
   ]
  },
  {
   "cell_type": "code",
   "execution_count": 106,
   "metadata": {},
   "outputs": [],
   "source": [
    "global feed"
   ]
  },
  {
   "cell_type": "code",
   "execution_count": 107,
   "metadata": {},
   "outputs": [],
   "source": [
    "def Address(Location):\n",
    "    global Province_fa\n",
    "    global Township_fa\n",
    "\n",
    "    Geolocator_OSM = Nominatim(user_agent=\"Location Validity\")                  #Location Validity  is our program name\n",
    "    location_fa = Geolocator_OSM.reverse(Location, language = 'Persian')\n",
    "    \n",
    "    location_fa = str(location_fa[0])                                           #Convert GeoPy data to String\n",
    "    location_fa = location_fa.split(\" \")                                        #split data of String\n",
    "    size_str_fa = np.size(location_fa)\n",
    "\n",
    "    ##########################################################################################################################\n",
    "    ###################################### Calculate the length of Province, Township & City #################################\n",
    "    ##########################################################################################################################\n",
    "\n",
    "    location_fa_DF = pd.DataFrame(location_fa)\n",
    "\n",
    "    No_Province_fa = location_fa_DF.loc[location_fa_DF[0]=='استان'].index[0]\n",
    "    Length_Province_fa = size_str_fa - No_Province_fa - 2                                 #Number of Province's words\n",
    "\n",
    "    if location_fa.count('شهرستان') == 2:\n",
    "        No_Township_fa = location_fa_DF.loc[location_fa_DF[0]=='شهرستان'].index[0]\n",
    "        Length_Township_fa = No_Province_fa - No_Township_fa - 3                          #Number of Township's words\n",
    "\n",
    "    elif location_fa.count('شهرستان') == 1:\n",
    "        No_Township_fa = location_fa_DF.loc[location_fa_DF[0]=='شهرستان'].index[0]\n",
    "        Length_Township_fa = No_Province_fa - No_Township_fa - 1                          #Number of Township's words\n",
    "\n",
    "    elif location_fa.count('شهرستان') == 0:\n",
    "        No_Township_fa = 0\n",
    "        Length_Township_fa = 0                                                            #Number of Township's words\n",
    "\n",
    "\n",
    "    if location_fa.count('شهر') == 2:\n",
    "        No_City_fa = location_fa_DF.loc[location_fa_DF[0]=='شهر'].index[0]   \n",
    "        Length_City_fa = No_Township_fa - No_City_fa - 3                                  #Number of City's words\n",
    "\n",
    "    elif location_fa.count('شهر') == 1:\n",
    "        No_City_fa = location_fa_DF.loc[location_fa_DF[0]=='شهر'].index[0]\n",
    "        Length_City_fa = No_Township_fa - No_City_fa - 1                                  #Number of City's words\n",
    "\n",
    "    elif location_fa.count('شهر') == 0:\n",
    "        No_City_fa = 0\n",
    "        Length_City_fa = 0                                                                #Number of City's words\n",
    "\n",
    "    #########################################################################################################################\n",
    "    ######################################### Create the name of Province, Township & City ##################################\n",
    "    #########################################################################################################################\n",
    "\n",
    "\n",
    "    ############################################### Create Country name #########################################\n",
    "    Country_fa = location_fa[size_str_fa - 1]\n",
    "\n",
    "    ############################################### Create Province name ########################################\n",
    "    #global feed\n",
    "    if location_fa[No_Province_fa + 1] == 'تهران,' or location_fa[No_Province_fa + 1] == 'اردبیل,' or location_fa[No_Province_fa + 1] == 'اصفهان,' or location_fa[No_Province_fa + 1] == 'کردستان,' or location_fa[No_Province_fa + 1] == 'مرکزی,'  or location_fa[No_Province_fa + 1] == 'قم,'  or location_fa[No_Province_fa + 1] == 'همدان,' or location_fa[No_Province_fa + 1] == 'البرز,' or location_fa[No_Province_fa + 1] == '‏هرمزگان‎,'  or location_fa[No_Province_fa + 1] == 'فارس,' or location_fa[No_Province_fa + 1] == 'بوشهر,' or location_fa[No_Province_fa + 1] == 'گلستان,' or location_fa[No_Province_fa + 1] == 'یزد,' or location_fa[No_Province_fa + 1] == 'زنجان,':\n",
    "      \n",
    "        Province_fa = location_fa[No_Province_fa + 1]\n",
    "        Province_fa = Province_fa[:len(Province_fa)-1]\n",
    "        Province_fa = str(Province_fa)\n",
    "\n",
    "    elif Length_Province_fa == 1:\n",
    "        Province_fa = location_fa[No_Province_fa + 1]\n",
    "        Province_fa = Province_fa[:len(Province_fa)-1]\n",
    "        Province_fa = str(Province_fa)\n",
    "\n",
    "    elif location_fa[No_Province_fa + 1] == 'آذربایجان':\n",
    "        Province1_fa = location_fa[No_Province_fa + 1]\n",
    "        Province2_fa = location_fa[No_Province_fa + 2]\n",
    "        Province2_fa = Province2_fa[:len(Province2_fa)-1]\n",
    "        Province_fa = str(Province1_fa) + \" \" + str(Province2_fa)\n",
    "\n",
    "    elif Length_Province_fa == 2:\n",
    "        Province1_fa = location_fa[No_Province_fa + 1]\n",
    "        Province2_fa = location_fa[No_Province_fa + 2]\n",
    "        Province2_fa = Province2_fa[:len(Province2_fa)-1]\n",
    "        Province_fa = str(Province1_fa) + \" \" + str(Province2_fa)\n",
    "\n",
    "    elif Length_Province_fa == 3:\n",
    "        Province1_fa = location_fa[No_Province_fa + 1]\n",
    "        Province2_fa = location_fa[No_Province_fa + 2]\n",
    "        Province3_fa = location_fa[No_Province_fa + 3]\n",
    "        Province3_fa = Province3_fa[:len(Province3_fa)-1]\n",
    "        Province_fa = str(Province1_fa) + \" \" + str(Province2_fa) + \" \" + str(Province3_fa)\n",
    "\n",
    "    elif Length_Province_fa == 4:\n",
    "        Province1_fa = location_fa[No_Province_fa + 1]\n",
    "        Province2_fa = location_fa[No_Province_fa + 2]\n",
    "        Province3_fa = location_fa[No_Province_fa + 3]\n",
    "        Province4_fa = location_fa[No_Province_fa + 4]\n",
    "        Province4_fa = Province4_fa[:len(Province4_fa)-1]\n",
    "        Province_fa = str(Province1_fa) + \" \" + str(Province2_fa) + \" \" + str(Province3_fa) + \" \" + str(Province4_fa)\n",
    "\n",
    "    ############################################### Create Township name #########################################\n",
    "    if Length_Township_fa == 0:\n",
    "        Township_fa = 'N/A'\n",
    "\n",
    "    if Length_Township_fa == 1:\n",
    "        Township_fa = location_fa[No_Township_fa + 1]\n",
    "        Township_fa = Township_fa[:len(Township_fa)-1]\n",
    "        Township_fa = str(Township_fa)\n",
    "\n",
    "    elif Length_Township_fa == 2:\n",
    "        Township1_fa = location_fa[No_Township_fa + 1]\n",
    "        Township2_fa = location_fa[No_Township_fa + 2]\n",
    "        Township2_fa = Township2_fa[:len(Township2_fa)-1]\n",
    "        Township_fa = str(Township1_fa) + \" \" + str(Township2_fa)\n",
    "\n",
    "    elif Length_Township_fa == 3:\n",
    "        Township1_fa = location_fa[No_Township_fa + 1]\n",
    "        Township2_fa = location_fa[No_Township_fa + 2]\n",
    "        Township3_fa = location_fa[No_Township_fa + 3]\n",
    "        Township3_fa = Township3_fa[:len(Township3_fa)-1]\n",
    "        Township_fa = str(Township1_fa) + \" \" + str(Township2_fa) + \" \" + str(Township3_fa)\n",
    "\n",
    "    elif Length_Township_fa == 4:\n",
    "        Township1_fa = location_fa[No_Township_fa + 1]\n",
    "        Township2_fa = location_fa[No_Township_fa + 2]\n",
    "        Township3_fa = location_fa[No_Township_fa + 3]\n",
    "        Township4_fa = location_fa[No_Township_fa + 4]\n",
    "        Township4_fa = Township4_fa[:len(Township4_fa)-1]\n",
    "        Township_fa = str(Township1_fa) + \" \" + str(Township2_fa) + \" \" + str(Township3_fa) + \" \" + str(Township4_fa)\n",
    "\n",
    "    ################################################## Create City name ##############################################\n",
    "    if Length_City_fa == 0:\n",
    "        City_fa = 'N/A'\n",
    "\n",
    "    else:\n",
    "        City_fa = location_fa[No_City_fa + 1]\n",
    "        City_fa = City_fa[:len(City_fa)-1]\n",
    "        City_fa = str(City_fa)\n",
    "\n",
    "    #########################################################################################################################\n",
    "    ################################################### Create the City name(GB) ############################################\n",
    "    #########################################################################################################################                   \n",
    "        \n",
    "    Geolocator_GN = GeoNames(username='Amir_Kohan_shaygan')\n",
    "    location_GN = Geolocator_GN.reverse(Location)\n",
    "\n",
    "    location_GN = str(location_GN[0])                                           #Convert GeoPy data to String\n",
    "    location_GN = location_GN.split(\" \")                                        #split data of String\n",
    "    size_str_GN = np.size(location_GN)\n",
    "    location_GN_DF = pd.DataFrame(location_GN)                                  #Convert String to DataFrame\n",
    "\n",
    "    City_GN = location_GN[0][:len(location_GN[0])-1]\n",
    "    City_GN = str(City_GN)\n",
    "    City_GN = City_GN.replace('ā','a')\n",
    "    City_GN = City_GN.replace('ş','s')\n",
    "    City_GN = City_GN.replace('Ẕ','Z')\n",
    "    City_GN = City_GN.replace('ī','i')\n",
    "        \n",
    "    #return Country_fa, City_fa, City_GN , Township_fa  , Province_fa\n",
    "   # return Province_fa\n",
    "    #return Township_fa\n",
    "    #return City_fa\n",
    "    #return City_GN\n",
    "    ad= [0]*5\n",
    "    ad[0]=str(Country_fa)\n",
    "    ad[1]=str(Province_fa)\n",
    "    ad[2]=str(Township_fa)\n",
    "    ad[3]=str(City_fa)\n",
    "    ad[4]=str(City_GN)\n",
    "    return ad\n",
    "   \n",
    "    #print('Country_fa :', str(Country_fa))\n",
    "    #print('Province_fa :', str(Province_fa))\n",
    "    #print('Township_fa :', str(Township_fa))\n",
    "    #print('City_fa :', str(City_fa))\n",
    "    #print('City_GN :', str(City_GN))\n",
    "\n",
    " \n",
    "        "
   ]
  },
  {
   "cell_type": "code",
   "execution_count": 141,
   "metadata": {},
   "outputs": [],
   "source": [
    "Loc=[]\n",
    "a=np.shape(Aras_File)[0]"
   ]
  },
  {
   "cell_type": "code",
   "execution_count": 159,
   "metadata": {
    "scrolled": true
   },
   "outputs": [],
   "source": [
    "\n",
    "for i in range(228,292):\n",
    "    Location = str(np.array(Aras_File.iloc[i,4]))\n",
    "    #Address(Location)\n",
    "    Loc.append(Address(Location))"
   ]
  },
  {
   "cell_type": "code",
   "execution_count": 160,
   "metadata": {},
   "outputs": [
    {
     "data": {
      "text/plain": [
       "291"
      ]
     },
     "execution_count": 160,
     "metadata": {},
     "output_type": "execute_result"
    }
   ],
   "source": [
    "i"
   ]
  },
  {
   "cell_type": "code",
   "execution_count": 162,
   "metadata": {},
   "outputs": [],
   "source": [
    "Loc_df=pd.DataFrame(Loc)"
   ]
  },
  {
   "cell_type": "code",
   "execution_count": 163,
   "metadata": {},
   "outputs": [],
   "source": [
    "Loc_df.to_excel('Total_KB.xlsx')"
   ]
  },
  {
   "cell_type": "code",
   "execution_count": 97,
   "metadata": {
    "scrolled": true
   },
   "outputs": [
    {
     "ename": "TypeError",
     "evalue": "concat() got multiple values for argument 'axis'",
     "output_type": "error",
     "traceback": [
      "\u001b[1;31m---------------------------------------------------------------------------\u001b[0m",
      "\u001b[1;31mTypeError\u001b[0m                                 Traceback (most recent call last)",
      "\u001b[1;32m<ipython-input-97-5c9eafb29662>\u001b[0m in \u001b[0;36m<module>\u001b[1;34m()\u001b[0m\n\u001b[1;32m----> 1\u001b[1;33m \u001b[0mtoal\u001b[0m\u001b[1;33m=\u001b[0m\u001b[0mpd\u001b[0m\u001b[1;33m.\u001b[0m\u001b[0mconcat\u001b[0m\u001b[1;33m(\u001b[0m\u001b[0mAras_File\u001b[0m\u001b[1;33m,\u001b[0m\u001b[0mLoc_df\u001b[0m\u001b[1;33m,\u001b[0m\u001b[0maxis\u001b[0m\u001b[1;33m=\u001b[0m\u001b[1;36m1\u001b[0m\u001b[1;33m)\u001b[0m\u001b[1;33m\u001b[0m\u001b[0m\n\u001b[0m",
      "\u001b[1;31mTypeError\u001b[0m: concat() got multiple values for argument 'axis'"
     ]
    }
   ],
   "source": [
    "toal=pd.concat(Aras_File,Loc_df,axis=1)"
   ]
  },
  {
   "cell_type": "code",
   "execution_count": 166,
   "metadata": {},
   "outputs": [
    {
     "data": {
      "text/plain": [
       "['\\u200fایران\\u200e', 'کهگیلویه و بویر احمد', 'کهگیلویه', 'N/A', 'Ba']"
      ]
     },
     "execution_count": 166,
     "metadata": {},
     "output_type": "execute_result"
    }
   ],
   "source": [
    "Address(Location)"
   ]
  },
  {
   "cell_type": "code",
   "execution_count": null,
   "metadata": {},
   "outputs": [],
   "source": []
  },
  {
   "cell_type": "code",
   "execution_count": null,
   "metadata": {},
   "outputs": [],
   "source": []
  }
 ],
 "metadata": {
  "kernelspec": {
   "display_name": "Python 3",
   "language": "python",
   "name": "python3"
  },
  "language_info": {
   "codemirror_mode": {
    "name": "ipython",
    "version": 3
   },
   "file_extension": ".py",
   "mimetype": "text/x-python",
   "name": "python",
   "nbconvert_exporter": "python",
   "pygments_lexer": "ipython3",
   "version": "3.7.0"
  }
 },
 "nbformat": 4,
 "nbformat_minor": 2
}
